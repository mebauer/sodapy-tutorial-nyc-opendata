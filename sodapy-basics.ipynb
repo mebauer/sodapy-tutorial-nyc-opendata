{
 "cells": [
  {
   "cell_type": "markdown",
   "metadata": {},
   "source": [
    "# Sodapy Basics Tutorial Using NYC Open Data \n",
    "Mark Bauer"
   ]
  },
  {
   "cell_type": "markdown",
   "metadata": {},
   "source": [
    "Table of Contents\n",
    "=================\n",
    "\n",
    "   * 1. Introduction\n",
    "   * 2. Sodapy\n",
    "       * 2.1 Using Sodapy\n",
    "       * 2.2 Sodapy Methods\n",
    "   * 3. Importing Libraries\n",
    "   * 4. Socrata Class\n",
    "   * 5. Sodapy Methods\n",
    "       * 5.1 .datasets()\n",
    "       * 5.2 .get()\n",
    "       * 5.3 .get_metadata()"
   ]
  },
  {
   "cell_type": "markdown",
   "metadata": {},
   "source": [
    "# 1. Introduction  \n",
    "This notebook demonstrates how to use sodapy, the python client for the Socrata Open Data API (SODA), and reviews various methods to retrieve data from Socrata Open Data. The data in this tutorial is from NYC Open Data. "
   ]
  },
  {
   "cell_type": "markdown",
   "metadata": {},
   "source": [
    "# 2. Sodapy"
   ]
  },
  {
   "cell_type": "markdown",
   "metadata": {},
   "source": [
    "## 2.1 Using Sodapy"
   ]
  },
  {
   "cell_type": "markdown",
   "metadata": {},
   "source": [
    "In order use sodapy, a source domain (i.e. the Socrata Open Data source you are trying to connect to) needs to be passed to the Socrata class. Additionally, if a user wants to query a specific dataset on Socrata Open Data, then the dataset identifier (i.e. the dataset id on the given source domain) needs to be passed as well. Below, we identify NYC Open Data's source domain: `data.cityofnewyork.us` and the dataset identifier for the NYC 311 data set: `erm2-nwe9`. The screenshot below displays where we retrieve this information."
   ]
  },
  {
   "cell_type": "markdown",
   "metadata": {},
   "source": [
    "![nyc-311-api-docs](images/nyc-311-api-docs.png)  \n",
    "\n",
    "Source: https://dev.socrata.com/foundry/data.cityofnewyork.us/erm2-nwe9"
   ]
  },
  {
   "cell_type": "markdown",
   "metadata": {},
   "source": [
    "## 2.2 Sodapy Methods"
   ]
  },
  {
   "cell_type": "markdown",
   "metadata": {},
   "source": [
    "![socrata-methods](images/socrata-methods.png)\n",
    "\n",
    "Source: https://github.com/xmunoz/sodapy#datasetslimit0-offset0"
   ]
  },
  {
   "cell_type": "markdown",
   "metadata": {},
   "source": [
    "# We will be focusing on three sodapy methods:\n",
    "-  `.datasets()`\n",
    "Returns the list of datasets associated with a particular domain.\n",
    "\n",
    "- `.get()`\n",
    "Read data from the requested resource. Options for content_type are json, csv, and xml.\n",
    "\n",
    "- `.get_metadata()`\n",
    "Retrieve the metadata for a particular dataset."
   ]
  },
  {
   "cell_type": "markdown",
   "metadata": {},
   "source": [
    "# 3. Importing Libraries"
   ]
  },
  {
   "cell_type": "code",
   "execution_count": 1,
   "metadata": {},
   "outputs": [],
   "source": [
    "# importing libraries\n",
    "import pandas as pd\n",
    "from sodapy import Socrata"
   ]
  },
  {
   "cell_type": "code",
   "execution_count": 2,
   "metadata": {},
   "outputs": [
    {
     "name": "stdout",
     "output_type": "stream",
     "text": [
      "Last updated: 2023-06-27 17:25:22\n",
      "\n",
      "Python implementation: CPython\n",
      "Python version       : 3.8.13\n",
      "IPython version      : 8.4.0\n",
      "\n",
      "pandas: 1.4.2\n",
      "sodapy: 2.2.0\n",
      "\n"
     ]
    }
   ],
   "source": [
    "# documention for installing watermark: https://github.com/rasbt/watermark\n",
    "%reload_ext watermark\n",
    "%watermark -u -t -d -v -p pandas,sodapy"
   ]
  },
  {
   "cell_type": "markdown",
   "metadata": {},
   "source": [
    "# 4. Socrata Class "
   ]
  },
  {
   "cell_type": "code",
   "execution_count": 3,
   "metadata": {},
   "outputs": [
    {
     "name": "stderr",
     "output_type": "stream",
     "text": [
      "WARNING:root:Requests made without an app_token will be subject to strict throttling limits.\n"
     ]
    },
    {
     "data": {
      "text/plain": [
       "<sodapy.socrata.Socrata at 0x10f3f6cd0>"
      ]
     },
     "execution_count": 3,
     "metadata": {},
     "output_type": "execute_result"
    }
   ],
   "source": [
    "# soure domain for NYC Open Data on Socrata\n",
    "socrata_domain = 'data.cityofnewyork.us'\n",
    "\n",
    "# Socrata(): The main class that interacts with the SODA API.\n",
    "\n",
    "# The required arguments are:\n",
    "#     domain: the domain you wish you to access\n",
    "#     app_token: your Socrata application token\n",
    "# Simple requests are possible without an app_token, though these\n",
    "# requests will be rate-limited.\n",
    "\n",
    "client = Socrata(\n",
    "    socrata_domain,\n",
    "    app_token=None,\n",
    "    timeout=100\n",
    ")\n",
    "\n",
    "client"
   ]
  },
  {
   "cell_type": "code",
   "execution_count": 4,
   "metadata": {},
   "outputs": [
    {
     "name": "stdout",
     "output_type": "stream",
     "text": [
      "<sodapy.socrata.Socrata object at 0x10f3f6cd0>\n",
      "type: <class 'sodapy.socrata.Socrata'>\n"
     ]
    }
   ],
   "source": [
    "# printing information about the Socrata object\n",
    "print(client)\n",
    "print('type: {}'.format(type(client)))"
   ]
  },
  {
   "cell_type": "code",
   "execution_count": 5,
   "metadata": {},
   "outputs": [
    {
     "name": "stdout",
     "output_type": "stream",
     "text": [
      "domain: data.cityofnewyork.us\n",
      "session: <requests.sessions.Session object at 0x10f3f6ee0>\n",
      "uri_prefix: https://\n",
      "timeout: 100\n"
     ]
    }
   ],
   "source": [
    "# printing attributes of object\n",
    "for key, value in client.__dict__.items():\n",
    "    print('{}: {}'.format(key, value))"
   ]
  },
  {
   "cell_type": "markdown",
   "metadata": {},
   "source": [
    "# 5. Sodapy Methods"
   ]
  },
  {
   "cell_type": "markdown",
   "metadata": {},
   "source": [
    "## 5.1  `.datasets()`"
   ]
  },
  {
   "cell_type": "markdown",
   "metadata": {},
   "source": [
    "`datasets` method: Returns the list of datasets associated with a particular domain.\n",
    "WARNING: Large limits (>1000) will return megabytes of data,\n",
    "which can be slow on low-bandwidth networks, and is also a lot of\n",
    "data to hold in memory."
   ]
  },
  {
   "cell_type": "code",
   "execution_count": 6,
   "metadata": {},
   "outputs": [
    {
     "name": "stdout",
     "output_type": "stream",
     "text": [
      "<class 'list'>\n"
     ]
    }
   ],
   "source": [
    "# datasets object type\n",
    "print(type(client.datasets()))"
   ]
  },
  {
   "cell_type": "code",
   "execution_count": 7,
   "metadata": {},
   "outputs": [
    {
     "name": "stdout",
     "output_type": "stream",
     "text": [
      "Number of datasets on NYC Open Data: 3,529.\n"
     ]
    }
   ],
   "source": [
    "datasets = len(client.datasets())\n",
    "print('Number of datasets on NYC Open Data: {:,}.'.format(datasets))"
   ]
  },
  {
   "cell_type": "code",
   "execution_count": 8,
   "metadata": {
    "scrolled": false
   },
   "outputs": [
    {
     "name": "stdout",
     "output_type": "stream",
     "text": [
      "<class 'dict'>\n"
     ]
    }
   ],
   "source": [
    "# reviewing type about first dataset\n",
    "print(type(client.datasets()[0]))"
   ]
  },
  {
   "cell_type": "code",
   "execution_count": 9,
   "metadata": {},
   "outputs": [
    {
     "data": {
      "text/plain": [
       "dict_keys(['resource', 'classification', 'metadata', 'permalink', 'link', 'owner', 'creator'])"
      ]
     },
     "execution_count": 9,
     "metadata": {},
     "output_type": "execute_result"
    }
   ],
   "source": [
    "# reviewing information about keys first dataset\n",
    "client.datasets()[0].keys()"
   ]
  },
  {
   "cell_type": "code",
   "execution_count": 10,
   "metadata": {
    "scrolled": false
   },
   "outputs": [
    {
     "name": "stdout",
     "output_type": "stream",
     "text": [
      "name: Civil Service List (Active) \n",
      "\n",
      "id: vx8i-nprf \n",
      "\n",
      "parent_fxf: [] \n",
      "\n",
      "description: A Civil Service List consists of all candidates who passed an exam, ranked in score order. An established list is considered active for no less than one year and no more than four years from the date of establishment. For more information visit DCAS’ “Work for the City” webpage at: https://www1.nyc.gov/site/dcas/employment/take-an-exam.page \n",
      "\n",
      "attribution: Department of Citywide Administrative Services (DCAS) \n",
      "\n",
      "attribution_link: None \n",
      "\n",
      "contact_email: None \n",
      "\n",
      "type: dataset \n",
      "\n",
      "updatedAt: 2023-06-27T13:33:40.000Z \n",
      "\n",
      "createdAt: 2016-06-14T21:12:15.000Z \n",
      "\n",
      "metadata_updated_at: 2023-06-27T13:33:40.000Z \n",
      "\n",
      "data_updated_at: 2023-06-27T13:24:22.000Z \n",
      "\n",
      "page_views: {'page_views_last_week': 4143, 'page_views_last_month': 19081, 'page_views_total': 2305826, 'page_views_last_week_log': 12.016808287686555, 'page_views_last_month_log': 14.219924768862814, 'page_views_total_log': 21.13685284484433} \n",
      "\n",
      "columns_name: ['List Title Desc', 'Group No', 'List Agency Code', 'Veteran Credit', 'Anniversary Date', 'List Title Code', 'Residency Credit', 'Published Date', 'Adj. FA', 'Established Date', 'Parent Lgy Credit', 'Last Name', 'Extension Date', 'First Name', 'List No', 'Exam No', 'MI', 'List Agency Desc', 'List Div Code', 'Sibling Lgy Credit'] \n",
      "\n",
      "columns_field_name: ['list_title_desc', 'group_no', 'list_agency_code', 'veteran_credit', 'anniversary_date', 'list_title_code', 'residency_credit', 'published_date', 'adj_fa', 'established_date', 'parent_lgy_credit', 'last_name', 'extension_date', 'first_name', 'list_no', 'exam_no', 'mi', 'list_agency_desc', 'list_div_code', 'sibling_lgy_credit'] \n",
      "\n",
      "columns_datatype: ['Text', 'Text', 'Text', 'Text', 'Calendar date', 'Text', 'Text', 'Calendar date', 'Number', 'Calendar date', 'Text', 'Text', 'Calendar date', 'Text', 'Number', 'Text', 'Text', 'Text', 'Text', 'Text'] \n",
      "\n",
      "columns_description: ['A descriptive name that identifies a civil service title. \\n', 'Represents the certification order for a list. (e.g. – eligible candidates on a list with a 01 group number may be considered for appointment before an eligible candidate on primary list with a 00 group number).\\n', 'A three (3) digit number used to identify an agency (For Promotion List Only).\\n', 'An additional credit given to a Veteran (5 points) or disabled veteran (10 points) when s/he accepts a permanent position from an eligible list. \\n', 'The date on which an eligible list is scheduled to expire.     \\xa0\\n', 'A five (5) digit number that corresponds to and represents a civil service title.\\n', 'An additional credit given on an exam to a candidate who maintains a continuous period of residency in New York City as described in the Notice of Examination for a specific title.     \\n', 'The date on which an eligible list is made available for review by the general public and appointing agencies. \\xa0\\n', 'The Adjusted Final Average (“Adj. FA” or “AFA”) is an eligible candidate’s test score in addition to any additional credits granted.\\n', 'The date on which an eligible list is made available for certification to agencies to consider an eligible candidate for appointment.\\n', 'A “Parent Legacy credit” is an additional credit given on an exam (10 points) to a candidate who lost a parent (FDNY, NYPD, or a First Responder, during or as a result of 911).\\n', 'A candidate’s last name as it appears on their application.\\n', 'The date on which a list will be extended beyond its original expiration date.  \\n', 'A candidate’s first name as it appears on their application.\\n', 'An eligible candidate’s placement on a given list as of the business day that the data set is populated. \\n\\n', 'A four (4) digit number that identifies a civil service examination. \\n\\n', 'A candidate’s middle initial (MI) as it appears on their application.\\n', 'The name of an appointing Agency.\\n', 'The promotional division codes/descriptions within the New York City Transit Authority only.\\n', 'A “Sibling Legacy Credit” is additional credit given on an exam (10 points) to a candidate who lost a sibling (FDNY, NYPD, or a First Responder, during or as a result of 911).\\n'] \n",
      "\n",
      "columns_format: [{'displayStyle': 'plain', 'align': 'left'}, {'displayStyle': 'plain', 'align': 'left'}, {'displayStyle': 'plain', 'align': 'left'}, {'displayStyle': 'plain', 'align': 'left'}, {'view': 'date', 'align': 'left'}, {'displayStyle': 'plain', 'align': 'left'}, {'displayStyle': 'plain', 'align': 'left'}, {'view': 'date', 'align': 'left'}, {'precisionStyle': 'standard', 'noCommas': 'false', 'precision': '2', 'align': 'left'}, {'view': 'date', 'align': 'left'}, {'displayStyle': 'plain', 'align': 'left'}, {'displayStyle': 'plain', 'align': 'left'}, {'view': 'date', 'align': 'left'}, {'displayStyle': 'plain', 'align': 'left'}, {'precisionStyle': 'standard', 'noCommas': 'false', 'precision': '3', 'align': 'left'}, {'displayStyle': 'plain', 'align': 'left'}, {'displayStyle': 'plain', 'align': 'left'}, {'displayStyle': 'plain', 'align': 'left'}, {'displayStyle': 'plain', 'align': 'left'}, {'displayStyle': 'plain', 'align': 'left'}] \n",
      "\n",
      "download_count: 52361 \n",
      "\n",
      "provenance: official \n",
      "\n",
      "lens_view_type: tabular \n",
      "\n",
      "lens_display_type: table \n",
      "\n",
      "blob_mime_type: None \n",
      "\n",
      "hide_from_data_json: False \n",
      "\n",
      "publication_date: 2023-06-27T13:33:40.000Z \n",
      "\n"
     ]
    }
   ],
   "source": [
    "# reviewing information about resource key\n",
    "for key, value in client.datasets()[0]['resource'].items():\n",
    "    print(key + ':', value, '\\n')      "
   ]
  },
  {
   "cell_type": "code",
   "execution_count": 11,
   "metadata": {},
   "outputs": [
    {
     "name": "stdout",
     "output_type": "stream",
     "text": [
      "categories: []\n",
      "tags: []\n",
      "domain_category: City Government\n",
      "domain_tags: ['2018od4a-video', '2018od4a-report']\n",
      "domain_metadata: [{'key': 'Update_Automation', 'value': 'Yes'}, {'key': 'Update_Date-Made-Public', 'value': '7/12/2016'}, {'key': 'Update_Update-Frequency', 'value': 'Daily'}, {'key': 'Update_Data-Change-Frequency', 'value': 'Weekly'}, {'key': 'Dataset-Information_Agency', 'value': 'Department of Citywide Administrative Services (DCAS)'}]\n"
     ]
    }
   ],
   "source": [
    "# reviewing information about classification key\n",
    "for key, value in client.datasets()[0]['classification'].items():\n",
    "    print(key + ':', value)"
   ]
  },
  {
   "cell_type": "code",
   "execution_count": 12,
   "metadata": {},
   "outputs": [
    {
     "name": "stdout",
     "output_type": "stream",
     "text": [
      "domain: data.cityofnewyork.us \n",
      "\n"
     ]
    }
   ],
   "source": [
    "# reviewing information about metadata key\n",
    "for key, value in client.datasets()[0]['metadata'].items():\n",
    "    print(key + ':', value, '\\n')"
   ]
  },
  {
   "cell_type": "code",
   "execution_count": 13,
   "metadata": {},
   "outputs": [
    {
     "name": "stdout",
     "output_type": "stream",
     "text": [
      "id: 5fuc-pqz2\n",
      "user_type: interactive\n",
      "display_name: NYC OpenData\n"
     ]
    }
   ],
   "source": [
    "for key, value in client.datasets()[0]['owner'].items():\n",
    "    print(key + ':', value)"
   ]
  },
  {
   "cell_type": "code",
   "execution_count": 14,
   "metadata": {},
   "outputs": [
    {
     "name": "stdout",
     "output_type": "stream",
     "text": [
      "id: 5fuc-pqz2\n",
      "user_type: interactive\n",
      "display_name: NYC OpenData\n"
     ]
    }
   ],
   "source": [
    "for key, value in list(client.datasets()[0]['creator'].items()):\n",
    "    print(key + ':', value)       "
   ]
  },
  {
   "cell_type": "markdown",
   "metadata": {},
   "source": [
    "Once we've identified the structure of the dictionary, we try to find the 311 dataset and identify its position in the datasets list."
   ]
  },
  {
   "cell_type": "code",
   "execution_count": 15,
   "metadata": {
    "scrolled": false
   },
   "outputs": [
    {
     "name": "stdout",
     "output_type": "stream",
     "text": [
      "We found the NYC 311 dataset!\n",
      "Index is: 6\n"
     ]
    }
   ],
   "source": [
    "# NYC 311 dataset identifier\n",
    "socrata_dataset_identifier = 'erm2-nwe9'\n",
    "\n",
    "for idx in range(len(client.datasets())):\n",
    "    if client.datasets()[idx]['resource']['id'] == socrata_dataset_identifier:\n",
    "        print('We found the NYC 311 dataset!')\n",
    "        print('Index is: {}'.format(idx))\n",
    "        break "
   ]
  },
  {
   "cell_type": "markdown",
   "metadata": {},
   "source": [
    "Since the datasets method is long, let's see if we can identify specific keys we want to preview in the resource dictionary."
   ]
  },
  {
   "cell_type": "code",
   "execution_count": 16,
   "metadata": {
    "scrolled": false
   },
   "outputs": [
    {
     "name": "stdout",
     "output_type": "stream",
     "text": [
      "name: 311 Service Requests from 2010 to Present \n",
      "\n",
      "id: erm2-nwe9 \n",
      "\n",
      "parent_fxf: [] \n",
      "\n",
      "description: <b>Please note: Due to pandemic call handling modifications, the ‘Open Data Channel Type’ values may not accurately indicate the channel the Service Request was submitted in for the period starting March 2020.</b>\r\n",
      "<p>\r\n",
      "All 311 Service Requests from 2010 to present. This information is automatically updated daily.\r\n",
      "</p> \n",
      "\n",
      "attribution: 311, DoITT \n",
      "\n",
      "attribution_link: None \n",
      "\n",
      "contact_email: None \n",
      "\n",
      "type: dataset \n",
      "\n",
      "updatedAt: 2023-06-27T01:32:58.000Z \n",
      "\n",
      "createdAt: 2011-10-10T05:52:17.000Z \n",
      "\n",
      "metadata_updated_at: 2023-06-22T22:31:54.000Z \n",
      "\n",
      "data_updated_at: 2023-06-27T01:32:58.000Z \n",
      "\n",
      "page_views: {'page_views_last_week': 1808, 'page_views_last_month': 8938, 'page_views_total': 441908, 'page_views_last_week_log': 10.82097669262124, 'page_views_last_month_log': 13.125897731760327, 'page_views_total_log': 18.75338978802358} \n",
      "\n",
      "columns_name: ['Open Data Channel Type', 'Location Type', 'Cross Street 2', 'Taxi Company Borough', 'Location (zip)', 'Incident Zip', 'City', 'Due Date', 'Status', 'Latitude', 'Bridge Highway Direction', 'Bridge Highway Name', 'Park Facility Name', 'Y Coordinate (State Plane)', 'Location (state)', 'Location (address)', 'Police Precincts', 'City Council Districts', 'Borough Boundaries', 'Community Districts', 'Zip Codes', 'Resolution Description', 'Facility Type', 'X Coordinate (State Plane)', 'Resolution Action Updated Date', 'Landmark', 'Intersection Street 1', 'Street Name', 'Incident Address', 'Descriptor', 'Complaint Type', 'Agency Name', 'Location (city)', 'Created Date', 'Longitude', 'Bridge Highway Segment', 'BBL', 'Intersection Street 2', 'Closed Date', 'Unique Key', 'Borough', 'Cross Street 1', 'Taxi Pick Up Location', 'Road Ramp', 'Vehicle Type', 'Address Type', 'Community Board', 'Location', 'Agency', 'Park Borough'] \n",
      "\n",
      "columns_field_name: ['open_data_channel_type', 'location_type', 'cross_street_2', 'taxi_company_borough', 'location_zip', 'incident_zip', 'city', 'due_date', 'status', 'latitude', 'bridge_highway_direction', 'bridge_highway_name', 'park_facility_name', 'y_coordinate_state_plane', 'location_state', 'location_address', ':@computed_region_sbqj_enih', ':@computed_region_92fq_4b7q', ':@computed_region_yeji_bk3q', ':@computed_region_f5dn_yrer', ':@computed_region_efsh_h5xi', 'resolution_description', 'facility_type', 'x_coordinate_state_plane', 'resolution_action_updated_date', 'landmark', 'intersection_street_1', 'street_name', 'incident_address', 'descriptor', 'complaint_type', 'agency_name', 'location_city', 'created_date', 'longitude', 'bridge_highway_segment', 'bbl', 'intersection_street_2', 'closed_date', 'unique_key', 'borough', 'cross_street_1', 'taxi_pick_up_location', 'road_ramp', 'vehicle_type', 'address_type', 'community_board', 'location', 'agency', 'park_borough'] \n",
      "\n",
      "columns_datatype: ['Text', 'Text', 'Text', 'Text', 'Text', 'Text', 'Text', 'Calendar date', 'Text', 'Number', 'Text', 'Text', 'Text', 'Number', 'Text', 'Text', 'Number', 'Number', 'Number', 'Number', 'Number', 'Text', 'Text', 'Number', 'Calendar date', 'Text', 'Text', 'Text', 'Text', 'Text', 'Text', 'Text', 'Text', 'Calendar date', 'Number', 'Text', 'Text', 'Text', 'Calendar date', 'Text', 'Text', 'Text', 'Text', 'Text', 'Text', 'Text', 'Text', 'Point', 'Text', 'Text'] \n",
      "\n",
      "columns_description: ['Indicates how the SR was submitted to 311.  i.e. By Phone, Online, Mobile, Other or Unknown.', 'Describes the type of location used in the address information \\n', 'Second Cross Street based on the geo validated incident location\\n', 'If the incident is identified as a taxi, this field will display the borough of the taxi company. \\n', '', 'Incident location zip code, provided by geo validation.\\n', 'City of the incident location provided by geovalidation.\\n', 'Date when responding agency is expected to update the SR.  This is based on the Complaint Type and internal Service Level Agreements (SLAs).\\n', 'Status of SR submitted \\n', 'Geo based Lat of the incident location\\n', 'If the incident is identified as a Bridge/Highway, the direction where the issue took place would be displayed here.\\n', 'If the incident is identified as a Bridge/Highway, the name will be displayed here.\\n', 'If the incident location is a Parks Dept facility, the Name of the facility will appear here\\n', 'Geo validated,  Y coordinate of the incident location. \\n', '', '', '', '', '', '', '', 'Describes the last action taken on the SR by the responding agency.  May describe next or future steps. \\n', 'If available, this field describes the type of city facility associated to the SR\\n', 'Geo validated, X coordinate of the incident location. \\n', 'Date when responding agency last updated the SR.\\n', 'If the incident location is identified as a Landmark the name of the landmark will display here\\n', 'First intersecting street based on geo validated incident location\\n', 'Street name of incident address provided by the submitter\\n', 'House number of incident address provided by submitter.\\n', 'This is  associated to the Complaint Type, and provides further detail on the incident or condition. Descriptor values are dependent on the Complaint Type, and are not always required in SR. \\n', 'This is the first level of a hierarchy identifying the topic of the incident or condition. Complaint Type may have a corresponding Descriptor (below) or may stand alone.', 'Full Agency name of responding City Government Agency', '', 'Date SR  was created\\n', 'Geo based Long of the incident location\\n', 'Additional information on the section of the Bridge/Highway were the incident took place.\\n', 'Borough Block and Lot, provided by geovalidation. Parcel number to identify the location of location of buildings and properties in NYC.', 'Second intersecting street based on geo validated incident location\\n', 'Date SR was closed by responding agency\\n', 'Unique identifier of a Service Request (SR) in the open data set\\n', 'Provided by the submitter and confirmed by geovalidation.\\n', 'First Cross street based on the geo validated incident location\\n', 'If the incident is identified as a taxi, this field displays the taxi pick up location\\n', 'If the incident location was Bridge/Highway this column differentiates if the issue was on the Road or the Ramp.\\n', 'If the incident is a taxi, this field describes the type of TLC vehicle. \\n', 'Type of incident location information available.\\n', 'Provided by geovalidation.\\n', 'Combination of the geo based lat & long of the incident location\\n', 'Acronym of responding City Government Agency\\n', 'The borough of incident if it is a Parks Dept facility\\n'] \n",
      "\n",
      "columns_format: [{'displayStyle': 'plain', 'align': 'left'}, {}, {}, {'displayStyle': 'plain', 'align': 'left'}, {}, {}, {'displayStyle': 'plain', 'align': 'left'}, {'view': 'date_time', 'align': 'left'}, {}, {'precisionStyle': 'standard', 'noCommas': 'false', 'align': 'right'}, {'displayStyle': 'plain', 'align': 'left'}, {'displayStyle': 'plain', 'align': 'left'}, {'displayStyle': 'plain', 'align': 'left'}, {'precisionStyle': 'standard', 'noCommas': 'false', 'align': 'right'}, {}, {}, {}, {}, {}, {}, {}, {'displayStyle': 'plain', 'align': 'left'}, {'displayStyle': 'plain', 'align': 'left'}, {'precisionStyle': 'standard', 'noCommas': 'false', 'align': 'right'}, {'view': 'date_time', 'align': 'left'}, {'displayStyle': 'plain', 'align': 'left'}, {}, {}, {}, {}, {'displayStyle': 'plain', 'align': 'left'}, {'displayStyle': 'plain', 'align': 'left'}, {}, {'view': 'date_time', 'align': 'left'}, {'precisionStyle': 'standard', 'noCommas': 'false', 'align': 'right'}, {'displayStyle': 'plain', 'align': 'left'}, {'displayStyle': 'plain', 'align': 'left'}, {}, {'view': 'date_time', 'align': 'left'}, {}, {'displayStyle': 'plain', 'align': 'left'}, {}, {'displayStyle': 'plain', 'align': 'left'}, {'displayStyle': 'plain', 'align': 'left'}, {'displayStyle': 'plain', 'align': 'left'}, {}, {'displayStyle': 'plain', 'align': 'left'}, {'view': 'coords', 'align': 'left'}, {}, {'displayStyle': 'plain', 'align': 'left'}] \n",
      "\n",
      "download_count: 398678 \n",
      "\n",
      "provenance: official \n",
      "\n",
      "lens_view_type: tabular \n",
      "\n",
      "lens_display_type: table \n",
      "\n",
      "blob_mime_type: None \n",
      "\n",
      "hide_from_data_json: False \n",
      "\n",
      "publication_date: 2018-04-20T03:03:18.000Z \n",
      "\n"
     ]
    }
   ],
   "source": [
    "# preview items for 311 dataset\n",
    "for key, value in client.datasets()[idx]['resource'].items():\n",
    "    print(str(key) + ':', value, '\\n')"
   ]
  },
  {
   "cell_type": "code",
   "execution_count": 17,
   "metadata": {},
   "outputs": [
    {
     "name": "stdout",
     "output_type": "stream",
     "text": [
      "The 311 Service Requests from 2010 to Present data description:\n",
      "\n",
      "<b>Please note: Due to pandemic call handling modifications, the ‘Open Data Channel Type’ values may not accurately indicate the channel the Service Request was submitted in for the period starting March 2020.</b>\r\n",
      "<p>\r\n",
      "All 311 Service Requests from 2010 to present. This information is automatically updated daily.\r\n",
      "</p>.\n"
     ]
    }
   ],
   "source": [
    "name = client.datasets()[idx]['resource']['name']\n",
    "desc = client.datasets()[idx]['resource']['description']\n",
    "\n",
    "print('The {} data description:\\n\\n{}.'.format(name, desc))"
   ]
  },
  {
   "cell_type": "code",
   "execution_count": 18,
   "metadata": {},
   "outputs": [
    {
     "name": "stdout",
     "output_type": "stream",
     "text": [
      "created: 2011-10-10T05:52:17.000Z\n",
      "updated: 2023-06-27T01:32:58.000Z.\n"
     ]
    }
   ],
   "source": [
    "created = client.datasets()[idx]['resource']['createdAt']\n",
    "updated = client.datasets()[idx]['resource']['updatedAt']\n",
    "\n",
    "print('created: {}\\nupdated: {}.'.format(created, updated))"
   ]
  },
  {
   "cell_type": "code",
   "execution_count": 19,
   "metadata": {},
   "outputs": [
    {
     "name": "stdout",
     "output_type": "stream",
     "text": [
      "page_views_last_week: 1808\n",
      "page_views_last_month: 8938\n",
      "page_views_total: 441908\n",
      "page_views_last_week_log: 10.82097669262124\n",
      "page_views_last_month_log: 13.125897731760327\n",
      "page_views_total_log: 18.75338978802358\n"
     ]
    }
   ],
   "source": [
    "# NYC 311 dataset page views information\n",
    "for key, value in client.datasets()[idx]['resource']['page_views'].items():\n",
    "    print(key + ':', value)"
   ]
  },
  {
   "cell_type": "markdown",
   "metadata": {},
   "source": [
    "##  5.2 `.get()`"
   ]
  },
  {
   "cell_type": "markdown",
   "metadata": {},
   "source": [
    "`get` method: Read data from the requested resource. Options for content_type are json,\n",
    "csv, and xml."
   ]
  },
  {
   "cell_type": "code",
   "execution_count": 20,
   "metadata": {},
   "outputs": [
    {
     "name": "stderr",
     "output_type": "stream",
     "text": [
      "WARNING:root:Requests made without an app_token will be subject to strict throttling limits.\n"
     ]
    }
   ],
   "source": [
    "client = Socrata(\n",
    "    socrata_domain,\n",
    "    app_token=None,\n",
    "    timeout=1000\n",
    ")\n",
    "\n",
    "# NYC 311 data set identifier\n",
    "socrata_dataset_identifier = 'erm2-nwe9'"
   ]
  },
  {
   "cell_type": "code",
   "execution_count": 21,
   "metadata": {},
   "outputs": [
    {
     "name": "stdout",
     "output_type": "stream",
     "text": [
      "unique_key: 58002872\n",
      "created_date: 2023-06-26T12:00:00.000\n",
      "agency: DSNY\n",
      "agency_name: Department of Sanitation\n",
      "complaint_type: Derelict Vehicles\n",
      "descriptor: Derelict Vehicles\n",
      "location_type: Street\n",
      "incident_zip: 11203\n",
      "incident_address: 240 EAST   53 STREET\n",
      "street_name: EAST   53 STREET\n",
      "cross_street_1: LENOX ROAD\n",
      "cross_street_2: LINDEN BOULEVARD\n",
      "address_type: ADDRESS\n",
      "city: BROOKLYN\n",
      "status: Open\n",
      "resolution_description: If the abandoned vehicle meets the criteria to be classified as a derelict (i.e. junk) the Department of Sanitation (DSNY) will investigate and tag the vehicle within three business days.\n",
      "resolution_action_updated_date: 2023-06-26T12:00:00.000\n",
      "community_board: 17 BROOKLYN\n",
      "borough: BROOKLYN\n",
      "x_coordinate_state_plane: 1004301\n",
      "y_coordinate_state_plane: 177661\n",
      "open_data_channel_type: PHONE\n",
      "park_facility_name: Unspecified\n",
      "park_borough: BROOKLYN\n",
      "latitude: 40.65429238853374\n",
      "longitude: -73.92773656642883\n",
      "location: {'latitude': '40.65429238853374', 'longitude': '-73.92773656642883', 'human_address': '{\"address\": \"\", \"city\": \"\", \"state\": \"\", \"zip\": \"\"}'}\n",
      ":@computed_region_efsh_h5xi: 16866\n",
      ":@computed_region_f5dn_yrer: 61\n",
      ":@computed_region_yeji_bk3q: 2\n",
      ":@computed_region_92fq_4b7q: 17\n",
      ":@computed_region_sbqj_enih: 40\n"
     ]
    }
   ],
   "source": [
    "# printing the column and value of the first record\n",
    "for key, value in client.get(socrata_dataset_identifier)[0].items():\n",
    "    print(key + \":\", value)      "
   ]
  },
  {
   "cell_type": "code",
   "execution_count": 22,
   "metadata": {},
   "outputs": [
    {
     "name": "stderr",
     "output_type": "stream",
     "text": [
      "WARNING:root:Requests made without an app_token will be subject to strict throttling limits.\n"
     ]
    },
    {
     "data": {
      "text/plain": [
       "<sodapy.socrata.Socrata at 0x11270d6d0>"
      ]
     },
     "execution_count": 22,
     "metadata": {},
     "output_type": "execute_result"
    }
   ],
   "source": [
    "# source domain for NYC Open Data on Socrata\n",
    "socrata_domain = 'data.cityofnewyork.us'\n",
    "\n",
    "# dataset id for NYC 311 on NYC Open Data on Socrata\n",
    "socrata_dataset_identifier = 'erm2-nwe9'\n",
    "\n",
    "# Socrata - The main class that interacts with the SODA API. We pass the source domain value\n",
    "# of NYC Open data, the app token as 'None', and set the timeout parameter for '1,000 seconds'\n",
    "client = Socrata(\n",
    "    socrata_domain,\n",
    "    app_token=None,\n",
    "    timeout=1000\n",
    ")\n",
    "\n",
    "client"
   ]
  },
  {
   "cell_type": "code",
   "execution_count": 23,
   "metadata": {},
   "outputs": [
    {
     "name": "stdout",
     "output_type": "stream",
     "text": [
      "shape of data: (100, 37)\n"
     ]
    },
    {
     "data": {
      "text/html": [
       "<div>\n",
       "<style scoped>\n",
       "    .dataframe tbody tr th:only-of-type {\n",
       "        vertical-align: middle;\n",
       "    }\n",
       "\n",
       "    .dataframe tbody tr th {\n",
       "        vertical-align: top;\n",
       "    }\n",
       "\n",
       "    .dataframe thead th {\n",
       "        text-align: right;\n",
       "    }\n",
       "</style>\n",
       "<table border=\"1\" class=\"dataframe\">\n",
       "  <thead>\n",
       "    <tr style=\"text-align: right;\">\n",
       "      <th></th>\n",
       "      <th>unique_key</th>\n",
       "      <th>created_date</th>\n",
       "      <th>agency</th>\n",
       "      <th>agency_name</th>\n",
       "      <th>complaint_type</th>\n",
       "      <th>descriptor</th>\n",
       "      <th>location_type</th>\n",
       "      <th>incident_zip</th>\n",
       "      <th>incident_address</th>\n",
       "      <th>street_name</th>\n",
       "      <th>...</th>\n",
       "      <th>location</th>\n",
       "      <th>:@computed_region_efsh_h5xi</th>\n",
       "      <th>:@computed_region_f5dn_yrer</th>\n",
       "      <th>:@computed_region_yeji_bk3q</th>\n",
       "      <th>:@computed_region_92fq_4b7q</th>\n",
       "      <th>:@computed_region_sbqj_enih</th>\n",
       "      <th>intersection_street_1</th>\n",
       "      <th>intersection_street_2</th>\n",
       "      <th>landmark</th>\n",
       "      <th>closed_date</th>\n",
       "    </tr>\n",
       "  </thead>\n",
       "  <tbody>\n",
       "    <tr>\n",
       "      <th>0</th>\n",
       "      <td>58006471</td>\n",
       "      <td>2023-06-26T12:00:00.000</td>\n",
       "      <td>DSNY</td>\n",
       "      <td>Department of Sanitation</td>\n",
       "      <td>Derelict Vehicles</td>\n",
       "      <td>Derelict Vehicles</td>\n",
       "      <td>Street</td>\n",
       "      <td>10032</td>\n",
       "      <td>177 FORT WASHINGTON AVENUE</td>\n",
       "      <td>FORT WASHINGTON AVENUE</td>\n",
       "      <td>...</td>\n",
       "      <td>{'latitude': '40.84115227324087', 'longitude':...</td>\n",
       "      <td>13090</td>\n",
       "      <td>47</td>\n",
       "      <td>4</td>\n",
       "      <td>39</td>\n",
       "      <td>21</td>\n",
       "      <td>NaN</td>\n",
       "      <td>NaN</td>\n",
       "      <td>NaN</td>\n",
       "      <td>NaN</td>\n",
       "    </tr>\n",
       "    <tr>\n",
       "      <th>1</th>\n",
       "      <td>58006508</td>\n",
       "      <td>2023-06-26T12:00:00.000</td>\n",
       "      <td>DSNY</td>\n",
       "      <td>Department of Sanitation</td>\n",
       "      <td>Derelict Vehicles</td>\n",
       "      <td>Derelict Vehicles</td>\n",
       "      <td>Street</td>\n",
       "      <td>11214</td>\n",
       "      <td>8015 BAY PARKWAY</td>\n",
       "      <td>BAY PARKWAY</td>\n",
       "      <td>...</td>\n",
       "      <td>{'latitude': '40.60469714576356', 'longitude':...</td>\n",
       "      <td>17616</td>\n",
       "      <td>1</td>\n",
       "      <td>2</td>\n",
       "      <td>18</td>\n",
       "      <td>37</td>\n",
       "      <td>NaN</td>\n",
       "      <td>NaN</td>\n",
       "      <td>NaN</td>\n",
       "      <td>NaN</td>\n",
       "    </tr>\n",
       "    <tr>\n",
       "      <th>2</th>\n",
       "      <td>58002872</td>\n",
       "      <td>2023-06-26T12:00:00.000</td>\n",
       "      <td>DSNY</td>\n",
       "      <td>Department of Sanitation</td>\n",
       "      <td>Derelict Vehicles</td>\n",
       "      <td>Derelict Vehicles</td>\n",
       "      <td>Street</td>\n",
       "      <td>11203</td>\n",
       "      <td>240 EAST   53 STREET</td>\n",
       "      <td>EAST   53 STREET</td>\n",
       "      <td>...</td>\n",
       "      <td>{'latitude': '40.65429238853374', 'longitude':...</td>\n",
       "      <td>16866</td>\n",
       "      <td>61</td>\n",
       "      <td>2</td>\n",
       "      <td>17</td>\n",
       "      <td>40</td>\n",
       "      <td>NaN</td>\n",
       "      <td>NaN</td>\n",
       "      <td>NaN</td>\n",
       "      <td>NaN</td>\n",
       "    </tr>\n",
       "    <tr>\n",
       "      <th>3</th>\n",
       "      <td>58002867</td>\n",
       "      <td>2023-06-26T12:00:00.000</td>\n",
       "      <td>DSNY</td>\n",
       "      <td>Department of Sanitation</td>\n",
       "      <td>Derelict Vehicles</td>\n",
       "      <td>Derelict Vehicles</td>\n",
       "      <td>Street</td>\n",
       "      <td>11204</td>\n",
       "      <td>6908 16 AVENUE</td>\n",
       "      <td>16 AVENUE</td>\n",
       "      <td>...</td>\n",
       "      <td>{'latitude': '40.61960174125197', 'longitude':...</td>\n",
       "      <td>13511</td>\n",
       "      <td>1</td>\n",
       "      <td>2</td>\n",
       "      <td>44</td>\n",
       "      <td>37</td>\n",
       "      <td>NaN</td>\n",
       "      <td>NaN</td>\n",
       "      <td>NaN</td>\n",
       "      <td>NaN</td>\n",
       "    </tr>\n",
       "    <tr>\n",
       "      <th>4</th>\n",
       "      <td>58006651</td>\n",
       "      <td>2023-06-26T02:00:17.000</td>\n",
       "      <td>NYPD</td>\n",
       "      <td>New York City Police Department</td>\n",
       "      <td>Noise - Residential</td>\n",
       "      <td>Loud Music/Party</td>\n",
       "      <td>Residential Building/House</td>\n",
       "      <td>10467</td>\n",
       "      <td>3530 DECATUR AVENUE</td>\n",
       "      <td>DECATUR AVENUE</td>\n",
       "      <td>...</td>\n",
       "      <td>{'latitude': '40.8792856112555', 'longitude': ...</td>\n",
       "      <td>11605</td>\n",
       "      <td>24</td>\n",
       "      <td>5</td>\n",
       "      <td>40</td>\n",
       "      <td>34</td>\n",
       "      <td>EAST GUN HILL ROAD</td>\n",
       "      <td>EAST  211 STREET</td>\n",
       "      <td>DECATUR AVENUE</td>\n",
       "      <td>NaN</td>\n",
       "    </tr>\n",
       "  </tbody>\n",
       "</table>\n",
       "<p>5 rows × 37 columns</p>\n",
       "</div>"
      ],
      "text/plain": [
       "  unique_key             created_date agency                      agency_name  \\\n",
       "0   58006471  2023-06-26T12:00:00.000   DSNY         Department of Sanitation   \n",
       "1   58006508  2023-06-26T12:00:00.000   DSNY         Department of Sanitation   \n",
       "2   58002872  2023-06-26T12:00:00.000   DSNY         Department of Sanitation   \n",
       "3   58002867  2023-06-26T12:00:00.000   DSNY         Department of Sanitation   \n",
       "4   58006651  2023-06-26T02:00:17.000   NYPD  New York City Police Department   \n",
       "\n",
       "        complaint_type         descriptor               location_type  \\\n",
       "0    Derelict Vehicles  Derelict Vehicles                      Street   \n",
       "1    Derelict Vehicles  Derelict Vehicles                      Street   \n",
       "2    Derelict Vehicles  Derelict Vehicles                      Street   \n",
       "3    Derelict Vehicles  Derelict Vehicles                      Street   \n",
       "4  Noise - Residential   Loud Music/Party  Residential Building/House   \n",
       "\n",
       "  incident_zip            incident_address             street_name  ...  \\\n",
       "0        10032  177 FORT WASHINGTON AVENUE  FORT WASHINGTON AVENUE  ...   \n",
       "1        11214            8015 BAY PARKWAY             BAY PARKWAY  ...   \n",
       "2        11203        240 EAST   53 STREET        EAST   53 STREET  ...   \n",
       "3        11204              6908 16 AVENUE               16 AVENUE  ...   \n",
       "4        10467         3530 DECATUR AVENUE          DECATUR AVENUE  ...   \n",
       "\n",
       "                                            location  \\\n",
       "0  {'latitude': '40.84115227324087', 'longitude':...   \n",
       "1  {'latitude': '40.60469714576356', 'longitude':...   \n",
       "2  {'latitude': '40.65429238853374', 'longitude':...   \n",
       "3  {'latitude': '40.61960174125197', 'longitude':...   \n",
       "4  {'latitude': '40.8792856112555', 'longitude': ...   \n",
       "\n",
       "  :@computed_region_efsh_h5xi :@computed_region_f5dn_yrer  \\\n",
       "0                       13090                          47   \n",
       "1                       17616                           1   \n",
       "2                       16866                          61   \n",
       "3                       13511                           1   \n",
       "4                       11605                          24   \n",
       "\n",
       "  :@computed_region_yeji_bk3q :@computed_region_92fq_4b7q  \\\n",
       "0                           4                          39   \n",
       "1                           2                          18   \n",
       "2                           2                          17   \n",
       "3                           2                          44   \n",
       "4                           5                          40   \n",
       "\n",
       "  :@computed_region_sbqj_enih intersection_street_1 intersection_street_2  \\\n",
       "0                          21                   NaN                   NaN   \n",
       "1                          37                   NaN                   NaN   \n",
       "2                          40                   NaN                   NaN   \n",
       "3                          37                   NaN                   NaN   \n",
       "4                          34    EAST GUN HILL ROAD      EAST  211 STREET   \n",
       "\n",
       "         landmark closed_date  \n",
       "0             NaN         NaN  \n",
       "1             NaN         NaN  \n",
       "2             NaN         NaN  \n",
       "3             NaN         NaN  \n",
       "4  DECATUR AVENUE         NaN  \n",
       "\n",
       "[5 rows x 37 columns]"
      ]
     },
     "execution_count": 23,
     "metadata": {},
     "output_type": "execute_result"
    }
   ],
   "source": [
    "# SoQL query string below:\n",
    "# retrieve all columns and limit our records to 100.\n",
    "\n",
    "query = (\n",
    "    \"\"\"\n",
    "    SELECT *\n",
    "    LIMIT 100\n",
    "    \"\"\"\n",
    ")\n",
    "\n",
    "# returned as JSON from API / converted to Python list of dictionaries by sodapy.\n",
    "results = client.get(\n",
    "    socrata_dataset_identifier,\n",
    "    query=query\n",
    ")\n",
    "\n",
    "# convert to pandas DataFrame\n",
    "results_df = pd.DataFrame.from_records(results)\n",
    "\n",
    "print('shape of data:', results_df.shape)\n",
    "results_df.head()"
   ]
  },
  {
   "cell_type": "markdown",
   "metadata": {},
   "source": [
    "## 5.3  `.get_metadata()`"
   ]
  },
  {
   "cell_type": "markdown",
   "metadata": {},
   "source": [
    "`get_metadata` method: Retrieve the metadata for a particular dataset."
   ]
  },
  {
   "cell_type": "code",
   "execution_count": 24,
   "metadata": {
    "scrolled": false
   },
   "outputs": [
    {
     "name": "stderr",
     "output_type": "stream",
     "text": [
      "WARNING:root:Requests made without an app_token will be subject to strict throttling limits.\n"
     ]
    },
    {
     "name": "stdout",
     "output_type": "stream",
     "text": [
      "id\n",
      "name\n",
      "assetType\n",
      "attribution\n",
      "averageRating\n",
      "category\n",
      "createdAt\n",
      "description\n",
      "displayType\n",
      "downloadCount\n",
      "hideFromCatalog\n",
      "hideFromDataJson\n",
      "indexUpdatedAt\n",
      "newBackend\n",
      "numberOfComments\n",
      "oid\n",
      "provenance\n",
      "publicationAppendEnabled\n",
      "publicationDate\n",
      "publicationGroup\n",
      "publicationStage\n",
      "rowClass\n",
      "rowIdentifierColumnId\n",
      "rowsUpdatedAt\n",
      "rowsUpdatedBy\n",
      "tableId\n",
      "totalTimesRated\n",
      "viewCount\n",
      "viewLastModified\n",
      "viewType\n",
      "approvals\n",
      "clientContext\n",
      "columns\n",
      "grants\n",
      "metadata\n",
      "owner\n",
      "query\n",
      "rights\n",
      "tableAuthor\n",
      "tags\n",
      "flags\n"
     ]
    }
   ],
   "source": [
    "# source domain for NYC Open Data on Socrata\n",
    "socrata_domain = 'data.cityofnewyork.us'\n",
    "\n",
    "# dataset id for NYC 311 on NYC Open Data on Socrata\n",
    "socrata_dataset_identifier = 'erm2-nwe9'\n",
    "\n",
    "client = Socrata(\n",
    "    socrata_domain,\n",
    "    app_token=None,\n",
    "    timeout=100\n",
    ")\n",
    "\n",
    "# previewing keys\n",
    "for key in client.get_metadata(socrata_dataset_identifier).keys():\n",
    "    print(key)"
   ]
  },
  {
   "cell_type": "code",
   "execution_count": 25,
   "metadata": {},
   "outputs": [
    {
     "name": "stdout",
     "output_type": "stream",
     "text": [
      "id\n",
      "name\n",
      "dataTypeName\n",
      "description\n",
      "fieldName\n",
      "position\n",
      "renderTypeName\n",
      "tableColumnId\n",
      "width\n",
      "cachedContents\n",
      "format\n"
     ]
    }
   ],
   "source": [
    "# preview keys in columns\n",
    "for key in client.get_metadata(socrata_dataset_identifier)['columns'][0].keys():\n",
    "    print(key)"
   ]
  },
  {
   "cell_type": "code",
   "execution_count": 26,
   "metadata": {},
   "outputs": [
    {
     "name": "stdout",
     "output_type": "stream",
     "text": [
      "unique_key\n",
      "created_date\n",
      "closed_date\n",
      "agency\n",
      "agency_name\n",
      "complaint_type\n",
      "descriptor\n",
      "location_type\n",
      "incident_zip\n",
      "incident_address\n",
      "street_name\n",
      "cross_street_1\n",
      "cross_street_2\n",
      "intersection_street_1\n",
      "intersection_street_2\n",
      "address_type\n",
      "city\n",
      "landmark\n",
      "facility_type\n",
      "status\n",
      "due_date\n",
      "resolution_description\n",
      "resolution_action_updated_date\n",
      "community_board\n",
      "bbl\n",
      "borough\n",
      "x_coordinate_state_plane\n",
      "y_coordinate_state_plane\n",
      "open_data_channel_type\n",
      "park_facility_name\n",
      "park_borough\n",
      "vehicle_type\n",
      "taxi_company_borough\n",
      "taxi_pick_up_location\n",
      "bridge_highway_name\n",
      "bridge_highway_direction\n",
      "road_ramp\n",
      "bridge_highway_segment\n",
      "latitude\n",
      "longitude\n",
      "location\n",
      ":@computed_region_efsh_h5xi\n",
      ":@computed_region_f5dn_yrer\n",
      ":@computed_region_yeji_bk3q\n",
      ":@computed_region_92fq_4b7q\n",
      ":@computed_region_sbqj_enih\n"
     ]
    }
   ],
   "source": [
    "# preview field names\n",
    "for idx in client.get_metadata(socrata_dataset_identifier)['columns']:\n",
    "    print(idx['fieldName'])"
   ]
  },
  {
   "cell_type": "code",
   "execution_count": null,
   "metadata": {},
   "outputs": [],
   "source": []
  }
 ],
 "metadata": {
  "kernelspec": {
   "display_name": "Python 3 (ipykernel)",
   "language": "python",
   "name": "python3"
  },
  "language_info": {
   "codemirror_mode": {
    "name": "ipython",
    "version": 3
   },
   "file_extension": ".py",
   "mimetype": "text/x-python",
   "name": "python",
   "nbconvert_exporter": "python",
   "pygments_lexer": "ipython3",
   "version": "3.8.13"
  }
 },
 "nbformat": 4,
 "nbformat_minor": 4
}
